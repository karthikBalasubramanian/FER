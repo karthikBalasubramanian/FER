{
 "cells": [
  {
   "cell_type": "markdown",
   "metadata": {},
   "source": [
    "# Facial Emotions Recognition\n",
    "\n",
    "### Domain Background\n",
    "\n",
    "Facial emotions are important factors in human communication that help us understand the intentions of others. In general, people infer the emotional states of other people, such as joy, sadness, and anger, using facial expressions and vocal tone. According to different surveys, verbal components convey one-third of human communication, and nonverbal components convey two-thirds. Among several nonverbal components, by carrying emotional meaning, facial expressions are one of the main information channels in interpersonal communication. Interest in automatic facial emotion recognition (FER) has also been increasing recently with the rapid development of artificial intelligent techniques, including in human-computer interaction (HCI), virtual reality (VR), augment reality (AR), advanced driver assistant systems (ADASs), and entertainment. Although various sensors such as an electromyograph (EMG), electrocardiogram (ECG), electroencephalograph (EEG), and camera can be used for FER inputs, a camera is the most promising type of sensor because it provides the most informative clues for FER and does not need to be worn.\n",
    "\n",
    "My journey to decide on this project was exciting. My motive was to prove the utility of Deep neural nets in the contemporary research. Facial emotional recoginition/ pattern recognintion had been in research since long. The following acaemic papers were very helpful in  \n",
    "\n",
    "1. [Giving a historic overview of research in Facial Emotional Recognition](https://www.ncbi.nlm.nih.gov/pmc/articles/PMC5856145/)\n",
    "2. [Deciding on a posed dataset with seven different emotions](http://www.consortium.ri.cmu.edu/data/ck/CK+/CVPR2010_CK.pdf)\n",
    "3. [Developing a baseline algorithm](https://pdfs.semanticscholar.org/9bf2/c915943cb74add761ec4636f323337022a97.pdf)\n",
    "4. [Improving the Facial Emotions Recognition using Deep Convolutional Neuralnets](https://arxiv.org/pdf/1509.05371v2.pdf)\n",
    "\n",
    "### Problem Statement\n",
    "\n",
    "\n",
    " The objective of this project is to showcase two different solutions in solving the problem of Facial emotional recognition from a posed dataset. Both the solutions are based on the problem space of supervised learning. But the first solution I propose is more involved and has more human interference than the second solution which uses state of art artificial neuralnets. The goal is to compare the two approaches using a performance metric - i.e how well the supervised learning model detects the expression posed in a still image. The posed dataset has labels associated with it. The labels define the most probable emotion. After running our two supervised learning model, we use accuracy score as the performance metric to decide how well the model has performed.\n",
    " \n",
    "accuracy score = A ratio of # of correctly predicted emotions in images / total number of images.\n",
    "\n",
    "### Datasets and Inputs\n",
    "\n",
    "I use [Cohn-Kanade dataset](http://www.consortium.ri.cmu.edu/ckagree/). This dataset has been introduced by [Lucey et al](http://www.pitt.edu/~jeffcohn/CVPR2010_CK+2.pdf). 210 persons, aged 18 to 50, have been recorded depicting emotions.Out of 210 people, only 123 subjects gave posed facial expression. This dataset contains the recordings of their emotions. Both female and male persons are present from different background. 81 % Euro-Americans and 13%  are Afro-Americans. The images are of size 640 * 490 pixels as well as 640 * 480 pixels.  They are both grayscale and colored. in total there are 593 emotion-labeled sequences. There are seven different emotions that are depicted. They are:\n",
    "\n",
    "0. 0=Neutral\n",
    "1. 1=Anger\n",
    "2. 2=Contempt\n",
    "3. 3=Disgust\n",
    "4. 4=Fear\n",
    "5. 5=Happy\n",
    "6. 6=Sadness\n",
    "7. 7=Surprise\n",
    "\n",
    "The images within each subfolder may have an image sequence of the subject. The first image in the sequence starts with a neutral face and the final image in the sub folder has the actual emotion. So from each subfolder ( image sequence), I have to extract two images,  the neutral face and final image with an emotion. ONLY 327 of the 593 sequences have emotion sequences. This is because these are the only ones the fit the prototypic definition. Also all these files are only one single emotion file. I have to preprocess this dataset to make it as an uniform input. I will make sure the images are all of same size and atmost it has one face depicting the emotion for now. After detecting the face in the image, I will convert the image to grayscale image, crop it and save it. I will use OpenCV to automate face finding process. OpenCv comes up with 4 different pre-trained  classifiers. I will use all of them to find the face in the image and abort the process when the face is identified. These identified, cropped, resize image becomes input feature. The emotion labels are the output.\n",
    "\n",
    "\n",
    "\n",
    "### Solution Statement\n",
    "\n",
    "![FER](https://drive.google.com/uc?export=view&id=1dvJBlYr76j7VF6JN2ew87paZF6svoSrz)\n",
    "\n",
    "#### Data Preprocessing\n",
    "\n",
    "**Methodology**\n",
    "\n",
    "1. Download the following zip files from [Cohn-kanande+ website](http://www.consortium.ri.cmu.edu/ckagree/)\n",
    "    - extended-cohn-kanade-images.zip\n",
    "    - Emotion_labels.zip\n",
    "2. Download haarcascade files from the [github](https://github.com/karthikBalasubramanian/opencv.git)\n",
    "3. Download shape predictor file from [here](http://dlib.net/files/shape_predictor_68_face_landmarks.dat.bz2)\n",
    "4. rename the images folder as `source_images`\n",
    "5. rename the lables folder as `source_emotion`\n",
    "6. Create two folders `pre_dataset` and `dataset`. `pre_dataset` arranges images by emotions and `dataset` checks if images has a face and resizes the faces of all images to 350 * 350 grayscale images.\n",
    "7. copy the peak frames of each image sequence to the specified emotions folder in pre_dataset.[Please read about image sequences in this paper](http://www.pitt.edu/~jeffcohn/CVPR2010_CK+2.pdf). \n",
    "8. Save all the first frame for all image sequences per person. Choose one first frame image per person at random. They will go into neutral folder of `pre_dataset`\n",
    "9. After doing a face identification check with haarcascades filters, move the images to their respected emotions folder from `pre_dataset` to `dataset` parent folder."
   ]
  },
  {
   "cell_type": "code",
   "execution_count": 1,
   "metadata": {},
   "outputs": [],
   "source": [
    "import warnings\n",
    "warnings.filterwarnings('ignore')\n",
    "import glob\n",
    "from shutil import copyfile\n",
    "import random\n",
    "random.seed(123)\n",
    "emotions = [\"neutral\", \"anger\", \"contempt\", \"disgust\", \"fear\", \"happy\", \"sadness\", \"surprise\"]"
   ]
  },
  {
   "cell_type": "code",
   "execution_count": 2,
   "metadata": {},
   "outputs": [],
   "source": [
    "observations = glob.glob(\"source_emotion/*\")"
   ]
  },
  {
   "cell_type": "code",
   "execution_count": null,
   "metadata": {},
   "outputs": [],
   "source": [
    "neutral_file_dict={}\n",
    "for obs in observations:\n",
    "    obs_id = str(obs[-4:])\n",
    "    neutral_file_dict[obs_id]=list()\n",
    "    emotions_folders = \"{0}/*\".format(str(obs))\n",
    "    emotions_sessions =  glob.glob(emotions_folders)\n",
    "    for each_emotion_session in emotions_sessions:\n",
    "        emotion_sequence_folder = \"{0}/*\".format(each_emotion_session)\n",
    "        emotion_sequence_files = glob.glob(emotion_sequence_folder)\n",
    "        # if emotion is identifed\n",
    "        # map the peak frame image to the specified emotion folder in the dataset\n",
    "        # map the first frame image to the neutral folder in the dataset.\n",
    "        for emotion_output in emotion_sequence_files:\n",
    "            emotion_seq_no = emotion_output[20:23]\n",
    "            # read the emotion in the file\n",
    "            file = open(emotion_output, 'r')\n",
    "            emotion= int(float(file.readline()))\n",
    "            peak_frame_emotion = sorted(glob.glob(\"source_images/{0}/{1}/*\".format(obs_id,emotion_seq_no)))[-1]\n",
    "            first_frame_emotion = sorted(glob.glob(\"source_images/{0}/{1}/*\".format(obs_id,emotion_seq_no)))[0]\n",
    "            neutral_file_dict[obs_id].append(first_frame_emotion)\n",
    "            peak_emotion_img_name = \"pre_dataset/{0}/{1}\".format(emotions[emotion], peak_frame_emotion[23:])\n",
    "            # now copy peak frame to respective folders in dataset\n",
    "            copyfile(peak_frame_emotion, peak_emotion_img_name)"
   ]
  },
  {
   "cell_type": "code",
   "execution_count": null,
   "metadata": {},
   "outputs": [],
   "source": [
    "for key in neutral_file_dict.keys():\n",
    "    if len(neutral_file_dict[key])>0:\n",
    "        # randomly copy neutral frames to neutral folder\n",
    "        source_file = random.choice(neutral_file_dict[key])\n",
    "        neutral_emotion_img_name = \"pre_dataset/neutral/{0}\".format(source_file[23:])\n",
    "        copyfile(source_file, neutral_emotion_img_name)"
   ]
  },
  {
   "cell_type": "code",
   "execution_count": null,
   "metadata": {},
   "outputs": [],
   "source": [
    "# code taken from http://www.paulvangent.com/2016/04/01/emotion-recognition-with-python-opencv-and-a-face-dataset/\n",
    "import cv2\n",
    "faceDet = cv2.CascadeClassifier(\"haarcascades/haarcascade_frontalface_default.xml\")\n",
    "faceDet_two = cv2.CascadeClassifier(\"haarcascades/haarcascade_frontalface_alt2.xml\")\n",
    "faceDet_three = cv2.CascadeClassifier(\"haarcascades/haarcascade_frontalface_alt.xml\")\n",
    "faceDet_four = cv2.CascadeClassifier(\"haarcascades/haarcascade_frontalface_alt_tree.xml\")\n",
    "def detect_faces(emotion):\n",
    "    files = glob.glob(\"pre_dataset/{0}/*\".format(emotion)) #Get list of all images with emotion\n",
    "    filenumber = 0\n",
    "    for f in files:\n",
    "        frame = cv2.imread(f) #Open image\n",
    "        gray = cv2.cvtColor(frame, cv2.COLOR_BGR2GRAY) #Convert image to grayscale\n",
    "        #Detect face using 4 different classifiers\n",
    "        face = faceDet.detectMultiScale(gray, scaleFactor=1.1, minNeighbors=10, minSize=(5, 5), flags=cv2.CASCADE_SCALE_IMAGE)\n",
    "        face_two = faceDet_two.detectMultiScale(gray, scaleFactor=1.1, minNeighbors=10, minSize=(5, 5), flags=cv2.CASCADE_SCALE_IMAGE)\n",
    "        face_three = faceDet_three.detectMultiScale(gray, scaleFactor=1.1, minNeighbors=10, minSize=(5, 5), flags=cv2.CASCADE_SCALE_IMAGE)\n",
    "        face_four = faceDet_four.detectMultiScale(gray, scaleFactor=1.1, minNeighbors=10, minSize=(5, 5), flags=cv2.CASCADE_SCALE_IMAGE)\n",
    "        #Go over detected faces, stop at first detected face, return empty if no face.\n",
    "        if len(face) == 1:\n",
    "            facefeatures = face\n",
    "        elif len(face_two) == 1:\n",
    "            facefeatures = face_two\n",
    "        elif len(face_three) == 1:\n",
    "            facefeatures = face_three\n",
    "        elif len(face_four) == 1:\n",
    "            facefeatures = face_four\n",
    "        else:\n",
    "            facefeatures = \"\"\n",
    "        #Cut and save face\n",
    "        for (x, y, w, h) in facefeatures: #get coordinates and size of rectangle containing face\n",
    "            gray = gray[y:y+h, x:x+w] #Cut the frame to size\n",
    "            try:\n",
    "                out = cv2.resize(gray, (350, 350)) #Resize face so all images have same size\n",
    "                cv2.imwrite(\"dataset/{0}/{1}.png\".format(emotion, filenumber), out) #Write image\n",
    "            except:\n",
    "               pass #If error, pass file\n",
    "        filenumber += 1 "
   ]
  },
  {
   "cell_type": "code",
   "execution_count": null,
   "metadata": {},
   "outputs": [],
   "source": [
    "for emotion in emotions:\n",
    "    detect_faces(emotion)"
   ]
  },
  {
   "cell_type": "code",
   "execution_count": 3,
   "metadata": {},
   "outputs": [
    {
     "data": {
      "image/png": "[encoded data removed]",
      "text/plain": [
       "<Figure size 432x288 with 1 Axes>"
      ]
     },
     "metadata": {
      "needs_background": "light"
     },
     "output_type": "display_data"
    }
   ],
   "source": [
    "# Visualize the distribution of the dataset\n",
    "import matplotlib.pyplot as plt                        \n",
    "%matplotlib inline\n",
    "\n",
    "image_dict = dict()\n",
    "for emotion in emotions:\n",
    "    image_dict[emotion] = len(glob.glob(\"dataset/{0}/*\".format(emotion)))\n",
    "\n",
    "plt.bar(range(len(image_dict)), list(image_dict.values()), align='center')\n",
    "plt.xticks(range(len(image_dict)), list(image_dict.keys()), rotation=90)\n",
    "plt.show()"
   ]
  },
  {
   "cell_type": "markdown",
   "metadata": {},
   "source": [
    "We can observe that there is an unequal distribution of dataset among emotions. But does it matter for our algorithms? Lets find out."
   ]
  },
  {
   "cell_type": "markdown",
   "metadata": {},
   "source": [
    "#### Feature Extraction - Baseline\n",
    "\n",
    "[Images Courtesy - Cohn-Kanade+ paper](http://www.pitt.edu/~jeffcohn/CVPR2010_CK+2.pdf)\n",
    "![ActionUnit](https://drive.google.com/uc?export=view&id=1xMnDLiOz5_MxnDCMzJ5mKjM2yMXNNzCR)\n",
    "\n",
    "The following method has 2 different phases.\n",
    "\n",
    "1. Finding the face - Libraries like dlib has handy functions like `get_frontal_face_detector` which is handy to identify the face region\n",
    "2. Extracting the features in the face - This is where most of the research in the past has gone into. It has been done so far by realizing through manual interference. One of the method is called Facial Action Coding System (FACS) which describes Facial expression using Action Units (AU). An Action Unit is a facial action like \"raising the Inner eyebrow\". Multiple Activation units when combined expresses the emotion in the underlying face. An example is provided below.\n",
    "\n",
    "![FACS](https://drive.google.com/uc?export=view&id=14krm8krZudg4ekBOva4XYKcnAPoOM15j)\n",
    "\n",
    "I use dlib's `shape_predictor` and its learned landmark predictor `shape_predictor_68_face_landmarks.bat` to extract AUs. Then as suggested in the model pipeline I implement SVM to compare distances between the extracted facial landmarks for different emotions.\n",
    "\n",
    "##### Visualizing Action Units"
   ]
  },
  {
   "cell_type": "code",
   "execution_count": 4,
   "metadata": {},
   "outputs": [
    {
     "data": {
      "image/png": "[encoded data removed]",
      "text/plain": [
       "<Figure size 432x288 with 1 Axes>"
      ]
     },
     "metadata": {
      "needs_background": "light"
     },
     "output_type": "display_data"
    }
   ],
   "source": [
    "#Import required modules\n",
    "import cv2\n",
    "import dlib\n",
    "#Set up some required objects\n",
    "detector = dlib.get_frontal_face_detector() #Face detector\n",
    "predictor = dlib.shape_predictor(\"shape_predictor_68_face_landmarks.dat\") #Landmark identifier. Set the filename to whatever you named the downloaded file\n",
    "frame = cv2.imread(\"dataset/happy/1.png\")\n",
    "detections = detector(frame, 1) #Detect the faces in the image\n",
    "for k,d in enumerate(detections):#For each detected face\n",
    "    shape = predictor(frame, d) #Get coordinates\n",
    "    for i in range(1,68):#There are 68 landmark points on each face\n",
    "        cv2.circle(frame, (shape.part(i).x, shape.part(i).y), 1, (0,0,255), thickness=3) #For each point, draw a red circle with thickness2 on the original frame\n",
    "plt.imshow(frame)#Display the frame\n",
    "plt.title(\"happy\")\n",
    "plt.show()"
   ]
  },
  {
   "cell_type": "markdown",
   "metadata": {},
   "source": [
    "##### Example of shape predictor coordinates without the image"
   ]
  },
  {
   "cell_type": "code",
   "execution_count": 5,
   "metadata": {},
   "outputs": [
    {
     "data": {
      "image/png": "[encoded data removed]",
      "text/plain": [
       "<Figure size 432x288 with 1 Axes>"
      ]
     },
     "metadata": {
      "needs_background": "light"
     },
     "output_type": "display_data"
    }
   ],
   "source": [
    "import numpy as np\n",
    "sample_x = list()\n",
    "sample_y = list()\n",
    "detections = detector(frame, 1) #Detect the faces in the image\n",
    "for k,d in enumerate(detections):#For each detected face\n",
    "    shape = predictor(frame, d) #Get coordinates\n",
    "    for i in range(1,68):\n",
    "        sample_x.append(float(shape.part(i).x))\n",
    "        sample_y.append(float(shape.part(i).y))\n",
    "        \n",
    "plt.plot(sample_x, sample_y)\n",
    "plt.xlim((0,350))\n",
    "plt.ylim((0,350))\n",
    "plt.gca().invert_yaxis()\n",
    "plt.show()"
   ]
  },
  {
   "cell_type": "code",
   "execution_count": 6,
   "metadata": {},
   "outputs": [
    {
     "name": "stdout",
     "output_type": "stream",
     "text": [
      "67 67\n"
     ]
    }
   ],
   "source": [
    "print(len(sample_x), len(sample_y))"
   ]
  },
  {
   "cell_type": "markdown",
   "metadata": {},
   "source": [
    "The `shape_predictor_68_face_landmarks` above ave extracted 67 points in any face in both X and Y axis from the image presented. This X and Y points when combined becomes a Facial Landmark. They describe the position of all the “moving parts” of the depicted face, the things you use to express an emotion. The good thing about extracting facial landmark is that I will be extracting very important information from the image to use it and classify an emotion. But,\n",
    "\n",
    "There are some problems when we directly capture these facial landmarks.\n",
    "\n",
    "- They may change as face moves to different parts of the frame. An image could be expressing the same emotion in the top left pixel as in the bottom right pixel of another image, but the resulting coordinate matrix would express different numerical ranges and hence the two images can be classfied to different emotion instead of the same emotion.Therefore we need a location invariant coordinate matrix to help us classify an emotion.\n",
    "\n",
    "The solution to this problem is derived in the following way.\n",
    "\n",
    "1. Find the center of the shap predictor vector\n",
    "2. Calculate the distance between all the shape predictor points to their center\n",
    "3. Calculate the angle at which these points find themselves relative to the center point. \n",
    "\n",
    "\n",
    "What we now have is the relationship between all the points with the center point and how they are relatively positioned in the 2D space.Each tuple will have the following values `<x, y, distance_from_center, angle_relative_to_center>`. This additional information to each coordinate makes it location invariant. i.e There is a way to derive these points in the 2D system."
   ]
  },
  {
   "cell_type": "code",
   "execution_count": 7,
   "metadata": {},
   "outputs": [],
   "source": [
    "import math\n",
    "def get_landmarks(image):\n",
    "    data={}\n",
    "    detections = detector(image, 1)\n",
    "    for k,d in enumerate(detections): #For all detected face instances individually\n",
    "        shape = predictor(image, d) #Draw Facial Landmarks with the predictor class\n",
    "        xlist = []\n",
    "        ylist = []\n",
    "        for i in range(1,68): #Store X and Y coordinates in two lists\n",
    "            xlist.append(float(shape.part(i).x))\n",
    "            ylist.append(float(shape.part(i).y))\n",
    "        # calculate the center of gravity\n",
    "        xmean = np.mean(xlist)\n",
    "        ymean = np.mean(ylist)\n",
    "        # calculate the distance from center from both axis.\n",
    "        # this information is used to get the angle relative to center point.\n",
    "        xcentral = [(x-xmean) for x in xlist]\n",
    "        ycentral = [(y-ymean) for y in ylist]\n",
    "        landmarks_vectorised = []\n",
    "        for x, y, w, z in zip(xcentral, ycentral, xlist, ylist):\n",
    "            # append x and y values\n",
    "            landmarks_vectorised.append(w)\n",
    "            landmarks_vectorised.append(z)\n",
    "            meannp = np.asarray((ymean,xmean))\n",
    "            coornp = np.asarray((z,w))\n",
    "            # calculate the euclidiean distance from center\n",
    "            dist = np.linalg.norm(coornp-meannp)\n",
    "            # append the distance to the feature vector\n",
    "            landmarks_vectorised.append(dist)\n",
    "            # apend the angle relative to the center of gravity.\n",
    "            landmarks_vectorised.append(math.degrees(math.atan2(y,x)))\n",
    "        data['landmarks_vectorised'] = landmarks_vectorised\n",
    "    if len(detections) < 1:\n",
    "        data['landmarks_vestorised'] = \"error\"\n",
    "    return data"
   ]
  },
  {
   "cell_type": "code",
   "execution_count": 8,
   "metadata": {},
   "outputs": [
    {
     "name": "stdout",
     "output_type": "stream",
     "text": [
      "[34.0, 172.0, 143.73715832690573, -163.42042572345252]\n"
     ]
    }
   ],
   "source": [
    "print(get_landmarks(frame)[\"landmarks_vectorised\"][0:4])"
   ]
  },
  {
   "cell_type": "markdown",
   "metadata": {},
   "source": [
    "#### Train-test split - baseline\n",
    "\n",
    "Two helper functions below does the following work\n",
    "1. `get_files` to randomly split the data in each emotion folder to training and test files. I have used 80/20 split.\n",
    "2. `make_sets` runs across each emotion folder and gets the training and test files from `get_files` function. It then converts each image to feature using `get_landmarks` function and tags the file to the emotion label. Thus we have our training_data, training_labels, test_data, test_labels"
   ]
  },
  {
   "cell_type": "code",
   "execution_count": 9,
   "metadata": {},
   "outputs": [],
   "source": [
    "def get_files(emotion):\n",
    "    files = glob.glob(\"dataset/{0}/*\".format(emotion))\n",
    "    random.shuffle(files)\n",
    "    train = files[:int(len(files)*0.8)] #get first 80% of file list\n",
    "    test = files[-int(len(files)*0.2):] #get last 20% of file list\n",
    "    return train, test"
   ]
  },
  {
   "cell_type": "code",
   "execution_count": 10,
   "metadata": {},
   "outputs": [],
   "source": [
    "def make_sets():\n",
    "    training_data = []\n",
    "    training_labels = []\n",
    "    test_data = []\n",
    "    test_labels = []\n",
    "    train_files_list = [] # its a list of dict of trainfiles\n",
    "    test_files_list = [] \n",
    "    for emotion in emotions:\n",
    "        #print(\" working on %s\" %emotion)\n",
    "        train, test = get_files(emotion)\n",
    "        #Append data to training and prediction list, and generate labels 0-7\n",
    "        for item in train:\n",
    "            d = dict()\n",
    "            d[\"name\"]= item\n",
    "            d[\"emotion\"] = emotions.index(emotion)\n",
    "            train_files_list.append(d)\n",
    "            image = cv2.imread(item) #open image\n",
    "            data = get_landmarks(image)\n",
    "            if data['landmarks_vectorised'] == \"error\":\n",
    "                print(\"no face detected on this one\")\n",
    "            else:\n",
    "                training_data.append(data['landmarks_vectorised']) #append image array to training data list\n",
    "                training_labels.append(emotions.index(emotion))\n",
    "        for item in test:\n",
    "            d = dict()\n",
    "            d[\"name\"]= item\n",
    "            d[\"emotion\"] = emotions.index(emotion)\n",
    "            test_files_list.append(d)\n",
    "            image = cv2.imread(item)\n",
    "            data = get_landmarks(image)\n",
    "            if data['landmarks_vectorised'] == \"error\":\n",
    "                print(\"no face detected on this one\")\n",
    "            else:\n",
    "                test_data.append(data['landmarks_vectorised'])\n",
    "                test_labels.append(emotions.index(emotion))\n",
    "    return training_data, training_labels, test_data, test_labels, train_files_list, test_files_list"
   ]
  },
  {
   "cell_type": "markdown",
   "metadata": {},
   "source": [
    "#### Model Application - Baseline\n",
    "\n",
    "  I have chosen Support vector machines (SVMs) to map the different facial features to their emotions. SVMs attempt to find the hyperplane that maximizes the margin between positive and negative observations for a specified emotion class. Therefore its also called Maximum margin classifier.\n",
    "  \n",
    "  We use libSVM which uses one vs one classifier. i.e It will create $ (K * (K-1))/2 $ binary classifiers in total - where K here is number of classes 8. A total of 28 binary classfiers are created. \n",
    "  \n",
    "\n",
    "##### Applying Linear SVM\n",
    "> Definitions taken from [Cohn-Kanade+ paper](http://www.pitt.edu/~jeffcohn/CVPR2010_CK+2.pdf)\n",
    "\n",
    "A linear SVM classification decision is made for an unlabeled test observation `x*` by,\n",
    "\n",
    "$w^Tx^* >^{true}  b$  \n",
    "$w^Tx^* <=^{false} b$  \n",
    "\n",
    "where w is the vector normal to the separating hyperplane and b is the bias. Both w and b are estimated so that they minimize the risk of a train-set, thus avoiding the possibility of overfitting to the training data. Typically, w is not defined explicitly, but through a linear sum of support vectors.\n",
    "\n",
    "Lets understand the accuracy of the model in identifying the emotion based on the features we developed. We have asked the model to provide probability scores of the model on different categories."
   ]
  },
  {
   "cell_type": "code",
   "execution_count": 11,
   "metadata": {},
   "outputs": [
    {
     "name": "stdout",
     "output_type": "stream",
     "text": [
      "Making sets for trail #0\n",
      "training SVM linear for trail #0\n",
      "getting accuracies for trail #0\n",
      "Accuracy Score for trail #0 = 0.7764705882352941 \n",
      "Making sets for trail #1\n",
      "training SVM linear for trail #1\n",
      "getting accuracies for trail #1\n",
      "Accuracy Score for trail #1 = 0.8470588235294118 \n",
      "Making sets for trail #2\n",
      "training SVM linear for trail #2\n",
      "getting accuracies for trail #2\n",
      "Accuracy Score for trail #2 = 0.8235294117647058 \n",
      "Making sets for trail #3\n",
      "training SVM linear for trail #3\n",
      "getting accuracies for trail #3\n",
      "Accuracy Score for trail #3 = 0.8470588235294118 \n",
      "Making sets for trail #4\n",
      "training SVM linear for trail #4\n",
      "getting accuracies for trail #4\n",
      "Accuracy Score for trail #4 = 0.8705882352941177 \n",
      "Making sets for trail #5\n",
      "training SVM linear for trail #5\n",
      "getting accuracies for trail #5\n",
      "Accuracy Score for trail #5 = 0.8235294117647058 \n",
      "Making sets for trail #6\n",
      "training SVM linear for trail #6\n",
      "getting accuracies for trail #6\n",
      "Accuracy Score for trail #6 = 0.8705882352941177 \n",
      "Making sets for trail #7\n",
      "training SVM linear for trail #7\n",
      "getting accuracies for trail #7\n",
      "Accuracy Score for trail #7 = 0.8470588235294118 \n",
      "Making sets for trail #8\n",
      "training SVM linear for trail #8\n",
      "getting accuracies for trail #8\n",
      "Accuracy Score for trail #8 = 0.8588235294117647 \n",
      "Making sets for trail #9\n",
      "training SVM linear for trail #9\n",
      "getting accuracies for trail #9\n",
      "Accuracy Score for trail #9 = 0.8235294117647058 \n",
      "Mean accuracy score: 0.8388235294117647\n"
     ]
    }
   ],
   "source": [
    "from sklearn.svm import SVC\n",
    "clf_lin_svm = SVC(kernel='linear', random_state=7, probability=True, tol=1e-3)\n",
    "trails = []\n",
    "for i in range(0,10):\n",
    "    print(\"Making sets for trail #%s\" %i) #Make sets by random sampling 80/20%\n",
    "    train_data, train_labels, test_data, test_labels, train_files_list, test_files_list = make_sets()\n",
    "    X_train = np.array(train_data) #Turn the training set into a numpy array for the classifier\n",
    "    y_train = np.array(train_labels)\n",
    "    print(\"training SVM linear for trail #%s\" %i) #train SVM\n",
    "    clf_lin_svm.fit(X_train, y_train)\n",
    "    print(\"getting accuracies for trail #%s\" %i) #Use score() function to get accuracy\n",
    "    X_test = np.array(test_data)\n",
    "    y_test = np.array(test_labels)\n",
    "    accuracy = clf_lin_svm.score(X_test, y_test)\n",
    "    print(\"Accuracy Score for trail #{0} = {1} \".format(i,accuracy))\n",
    "    trails.append(accuracy) #Store accuracy in a list\n",
    "print(\"Mean accuracy score: %s\" %np.mean(trails)) #Get mean accuracy of the 10 runs"
   ]
  },
  {
   "cell_type": "markdown",
   "metadata": {},
   "source": [
    "Amazing, We got a mean accuracy of `84%` in our 10 trails. Lets examine if the rest of the `16%` can be classified if the features are transformed to a higher dimension.\n",
    "\n",
    "#### Comparing with SVM Linear and SVM Polynomial Kernal\n",
    "\n",
    "   The kernel methods in SVM are used when we don't have lineraly seperable data. Kernel methods transform the data to higher dimension to make them seperable. Let's identify if that is the case with our dataset.By default, we have our feature set expressed to a 3 degree polynomial."
   ]
  },
  {
   "cell_type": "code",
   "execution_count": 12,
   "metadata": {},
   "outputs": [
    {
     "name": "stdout",
     "output_type": "stream",
     "text": [
      "Making sets for trail #0\n",
      "training SVM Poly for trail #0\n",
      "getting accuracies for trail #0\n",
      "Accuracy Score for trail #0 = 0.8235294117647058 \n",
      "Making sets for trail #1\n",
      "training SVM Poly for trail #1\n",
      "getting accuracies for trail #1\n",
      "Accuracy Score for trail #1 = 0.7294117647058823 \n",
      "Making sets for trail #2\n",
      "training SVM Poly for trail #2\n",
      "getting accuracies for trail #2\n",
      "Accuracy Score for trail #2 = 0.7764705882352941 \n",
      "Making sets for trail #3\n",
      "training SVM Poly for trail #3\n",
      "getting accuracies for trail #3\n",
      "Accuracy Score for trail #3 = 0.8117647058823529 \n",
      "Making sets for trail #4\n",
      "training SVM Poly for trail #4\n",
      "getting accuracies for trail #4\n",
      "Accuracy Score for trail #4 = 0.8588235294117647 \n",
      "Making sets for trail #5\n",
      "training SVM Poly for trail #5\n",
      "getting accuracies for trail #5\n",
      "Accuracy Score for trail #5 = 0.8117647058823529 \n",
      "Making sets for trail #6\n",
      "training SVM Poly for trail #6\n",
      "getting accuracies for trail #6\n",
      "Accuracy Score for trail #6 = 0.7764705882352941 \n",
      "Making sets for trail #7\n",
      "training SVM Poly for trail #7\n",
      "getting accuracies for trail #7\n",
      "Accuracy Score for trail #7 = 0.7647058823529411 \n",
      "Making sets for trail #8\n",
      "training SVM Poly for trail #8\n",
      "getting accuracies for trail #8\n",
      "Accuracy Score for trail #8 = 0.8705882352941177 \n",
      "Making sets for trail #9\n",
      "training SVM Poly for trail #9\n",
      "getting accuracies for trail #9\n",
      "Accuracy Score for trail #9 = 0.7529411764705882 \n",
      "Mean accuracy score: 0.7976470588235294\n"
     ]
    }
   ],
   "source": [
    "# TODO: Initialize the three models\n",
    "\n",
    "clf_poly_svm = SVC(kernel=\"poly\", random_state=11, probability=True, tol=1e-3)\n",
    "\n",
    "trails = []\n",
    "for i in range(0,10):\n",
    "    print(\"Making sets for trail #%s\" %i) #Make sets by random sampling 80/20%\n",
    "    train_data, train_labels, test_data, test_labels, train_files_list, test_files_list = make_sets()\n",
    "    X_train = np.array(train_data) #Turn the training set into a numpy array for the classifier\n",
    "    y_train = np.array(train_labels)\n",
    "    print(\"training SVM Poly for trail #%s\" %i) #train SVM\n",
    "    clf_poly_svm.fit(X_train, y_train)\n",
    "    print(\"getting accuracies for trail #%s\" %i) #Use score() function to get accuracy\n",
    "    X_test = np.array(test_data)\n",
    "    y_test = np.array(test_labels)\n",
    "    accuracy = clf_poly_svm.score(X_test, y_test)\n",
    "    print(\"Accuracy Score for trail #{0} = {1} \".format(i,accuracy))\n",
    "    trails.append(accuracy) #Store accuracy in a list\n",
    "print(\"Mean accuracy score: %s\" %np.mean(trails)) #Get mean accuracy of the 10 runs"
   ]
  },
  {
   "cell_type": "markdown",
   "metadata": {},
   "source": [
    "Surprisingly there doesn't seem to be a great difference in the performance of the Polynomial SVM when compared to linear SVM. May be our extracted and enriched feature set caused additional variance and overfitted the training data. We will for now go with the Linear SVM as our baseline and check the confusion matrix."
   ]
  },
  {
   "cell_type": "code",
   "execution_count": 13,
   "metadata": {},
   "outputs": [],
   "source": [
    "# taken from https://scikit-learn.org/stable/auto_examples/model_selection/plot_confusion_matrix.html\n",
    "from sklearn.metrics import confusion_matrix\n",
    "def plot_confusion_matrix(y_true, y_pred, classes,\n",
    "                          normalize=False,\n",
    "                          title=None,\n",
    "                          cmap=plt.cm.Blues):\n",
    "    \"\"\"\n",
    "    This function prints and plots the confusion matrix.\n",
    "    Normalization can be applied by setting `normalize=True`.\n",
    "    \"\"\"\n",
    "    if not title:\n",
    "        if normalize:\n",
    "            title = 'Normalized confusion matrix'\n",
    "        else:\n",
    "            title = 'Confusion matrix, without normalization'\n",
    "\n",
    "    # Compute confusion matrix\n",
    "    cm = confusion_matrix(y_true, y_pred)\n",
    "    # Only use the labels that appear in the data\n",
    "    if normalize:\n",
    "        cm = cm.astype('float') / cm.sum(axis=1)[:, np.newaxis]\n",
    "        print(\"Normalized confusion matrix\")\n",
    "    else:\n",
    "        print('Confusion matrix, without normalization')\n",
    "\n",
    "    #print(cm)\n",
    "\n",
    "    fig, ax = plt.subplots()\n",
    "    im = ax.imshow(cm, interpolation='nearest', cmap=cmap)\n",
    "    ax.figure.colorbar(im, ax=ax)\n",
    "    # We want to show all ticks...\n",
    "    ax.set(xticks=np.arange(cm.shape[1]),\n",
    "           yticks=np.arange(cm.shape[0]),\n",
    "           # ... and label them with the respective list entries\n",
    "           xticklabels=classes, yticklabels=classes,\n",
    "           title=title,\n",
    "           ylabel='True label',\n",
    "           xlabel='Predicted label')\n",
    "\n",
    "    # Rotate the tick labels and set their alignment.\n",
    "    plt.setp(ax.get_xticklabels(), rotation=90, ha=\"right\",\n",
    "             rotation_mode=\"anchor\")\n",
    "\n",
    "    # Loop over data dimensions and create text annotations.\n",
    "    fmt = '.2f' if normalize else 'd'\n",
    "    thresh = cm.max() / 2.\n",
    "    for i in range(cm.shape[0]):\n",
    "        for j in range(cm.shape[1]):\n",
    "            ax.text(j, i, format(cm[i, j], fmt),\n",
    "                    ha=\"center\", va=\"center\",\n",
    "                    color=\"white\" if cm[i, j] > thresh else \"black\")\n",
    "    fig.tight_layout()\n",
    "    return ax"
   ]
  },
  {
   "cell_type": "code",
   "execution_count": 14,
   "metadata": {},
   "outputs": [],
   "source": [
    "test_pred = clf_lin_svm.predict(test_data)"
   ]
  },
  {
   "cell_type": "code",
   "execution_count": 15,
   "metadata": {},
   "outputs": [
    {
     "name": "stdout",
     "output_type": "stream",
     "text": [
      "Normalized confusion matrix\n"
     ]
    },
    {
     "data": {
      "image/png": "[encoded data removed]",
      "text/plain": [
       "<Figure size 432x288 with 2 Axes>"
      ]
     },
     "metadata": {
      "needs_background": "light"
     },
     "output_type": "display_data"
    }
   ],
   "source": [
    "np.set_printoptions(precision=2)\n",
    "\n",
    "# Plot normalized confusion matrix\n",
    "plot_confusion_matrix(test_labels, test_pred, classes=emotions, normalize=True,\n",
    "                      title='Normalized confusion matrix')\n",
    "\n",
    "plt.show()"
   ]
  },
  {
   "cell_type": "code",
   "execution_count": 16,
   "metadata": {},
   "outputs": [],
   "source": [
    "import pandas as pd\n",
    "train_df = pd.DataFrame(train_files_list)\n",
    "test_df = pd.DataFrame(test_files_list)"
   ]
  },
  {
   "cell_type": "code",
   "execution_count": 17,
   "metadata": {},
   "outputs": [
    {
     "data": {
      "text/plain": [
       "array([0, 1, 2, 3, 4, 5, 6, 7])"
      ]
     },
     "execution_count": 17,
     "metadata": {},
     "output_type": "execute_result"
    }
   ],
   "source": [
    "np.unique(test_df[\"emotion\"])"
   ]
  },
  {
   "cell_type": "code",
   "execution_count": 18,
   "metadata": {},
   "outputs": [
    {
     "data": {
      "text/plain": [
       "emotion\n",
       "0    23\n",
       "1     9\n",
       "2     3\n",
       "3    11\n",
       "4     5\n",
       "5    13\n",
       "6     5\n",
       "7    16\n",
       "dtype: int64"
      ]
     },
     "execution_count": 18,
     "metadata": {},
     "output_type": "execute_result"
    }
   ],
   "source": [
    "test_df.groupby(\"emotion\").size()"
   ]
  },
  {
   "cell_type": "code",
   "execution_count": 19,
   "metadata": {},
   "outputs": [
    {
     "data": {
      "text/plain": [
       "array([[<matplotlib.axes._subplots.AxesSubplot object at 0x7f801b43c588>]],\n",
       "      dtype=object)"
      ]
     },
     "execution_count": 19,
     "metadata": {},
     "output_type": "execute_result"
    },
    {
     "data": {
      "image/png": "[encoded data removed]",
      "text/plain": [
       "<Figure size 432x288 with 1 Axes>"
      ]
     },
     "metadata": {
      "needs_background": "light"
     },
     "output_type": "display_data"
    }
   ],
   "source": [
    "# visualize the distribution of emotions in test set\n",
    "test_df.hist(column=\"emotion\", bins = len(np.unique(test_df[\"emotion\"])))"
   ]
  },
  {
   "cell_type": "markdown",
   "metadata": {},
   "source": [
    "We have very limited test samples in Contempt, Fear and Sadness emotion. Lets visualize the emotions that went wrong."
   ]
  },
  {
   "cell_type": "code",
   "execution_count": 20,
   "metadata": {},
   "outputs": [
    {
     "data": {
      "text/html": [
       "<div>\n",
       "<style scoped>\n",
       "    .dataframe tbody tr th:only-of-type {\n",
       "        vertical-align: middle;\n",
       "    }\n",
       "\n",
       "    .dataframe tbody tr th {\n",
       "        vertical-align: top;\n",
       "    }\n",
       "\n",
       "    .dataframe thead th {\n",
       "        text-align: right;\n",
       "    }\n",
       "</style>\n",
       "<table border=\"1\" class=\"dataframe\">\n",
       "  <thead>\n",
       "    <tr style=\"text-align: right;\">\n",
       "      <th></th>\n",
       "      <th>emotion</th>\n",
       "      <th>name</th>\n",
       "      <th>prediction</th>\n",
       "    </tr>\n",
       "  </thead>\n",
       "  <tbody>\n",
       "    <tr>\n",
       "      <th>32</th>\n",
       "      <td>2</td>\n",
       "      <td>dataset/contempt/14.png</td>\n",
       "      <td>0</td>\n",
       "    </tr>\n",
       "    <tr>\n",
       "      <th>45</th>\n",
       "      <td>3</td>\n",
       "      <td>dataset/disgust/31.png</td>\n",
       "      <td>1</td>\n",
       "    </tr>\n",
       "    <tr>\n",
       "      <th>64</th>\n",
       "      <td>6</td>\n",
       "      <td>dataset/sadness/17.png</td>\n",
       "      <td>0</td>\n",
       "    </tr>\n",
       "  </tbody>\n",
       "</table>\n",
       "</div>"
      ],
      "text/plain": [
       "    emotion                     name  prediction\n",
       "32        2  dataset/contempt/14.png           0\n",
       "45        3   dataset/disgust/31.png           1\n",
       "64        6   dataset/sadness/17.png           0"
      ]
     },
     "metadata": {},
     "output_type": "display_data"
    }
   ],
   "source": [
    "test_df[\"prediction\"] = test_pred\n",
    "# distil all the misclassified images.\n",
    "miscalssified_df = test_df[test_df[\"emotion\"]!=test_df[\"prediction\"]]\n",
    "display(miscalssified_df)"
   ]
  },
  {
   "cell_type": "code",
   "execution_count": 21,
   "metadata": {},
   "outputs": [
    {
     "data": {
      "image/png": "[encoded data removed]",
      "text/plain": [
       "<Figure size 432x288 with 1 Axes>"
      ]
     },
     "metadata": {
      "needs_background": "light"
     },
     "output_type": "display_data"
    },
    {
     "data": {
      "text/plain": [
       "array([0.04, 0.77, 0.01, 0.16, 0.01, 0.  , 0.01, 0.  ])"
      ]
     },
     "execution_count": 21,
     "metadata": {},
     "output_type": "execute_result"
    }
   ],
   "source": [
    "# Showing the misclassified image and its predicted probability\n",
    "\n",
    "image = cv2.imread(\"dataset/disgust/31.png\")\n",
    "plt.title(\"predicted = {0}/ Actual = {1}\".format(emotions[clf_lin_svm.predict(test_data)[45]], emotions[test_labels[45]]))\n",
    "plt.imshow(image)\n",
    "plt.show()\n",
    "clf_lin_svm.predict_proba(test_data)[45]"
   ]
  },
  {
   "cell_type": "markdown",
   "metadata": {},
   "source": [
    "I am confident about my methodology. But I am not very confident if I have collected enough data. I am going to go with the same dataset and explore how my model performs with some wild images later after I define my deep neural nets."
   ]
  },
  {
   "cell_type": "code",
   "execution_count": 41,
   "metadata": {},
   "outputs": [],
   "source": [
    "import keras\n",
    "from keras import backend as K\n",
    "from keras.preprocessing import image\n",
    "from tqdm import tqdm"
   ]
  },
  {
   "cell_type": "code",
   "execution_count": 27,
   "metadata": {},
   "outputs": [
    {
     "data": {
      "text/html": [
       "<div>\n",
       "<style scoped>\n",
       "    .dataframe tbody tr th:only-of-type {\n",
       "        vertical-align: middle;\n",
       "    }\n",
       "\n",
       "    .dataframe tbody tr th {\n",
       "        vertical-align: top;\n",
       "    }\n",
       "\n",
       "    .dataframe thead th {\n",
       "        text-align: right;\n",
       "    }\n",
       "</style>\n",
       "<table border=\"1\" class=\"dataframe\">\n",
       "  <thead>\n",
       "    <tr style=\"text-align: right;\">\n",
       "      <th></th>\n",
       "      <th>emotion</th>\n",
       "      <th>name</th>\n",
       "    </tr>\n",
       "  </thead>\n",
       "  <tbody>\n",
       "    <tr>\n",
       "      <th>0</th>\n",
       "      <td>3</td>\n",
       "      <td>dataset/disgust/48.png</td>\n",
       "    </tr>\n",
       "    <tr>\n",
       "      <th>1</th>\n",
       "      <td>7</td>\n",
       "      <td>dataset/surprise/21.png</td>\n",
       "    </tr>\n",
       "    <tr>\n",
       "      <th>2</th>\n",
       "      <td>4</td>\n",
       "      <td>dataset/fear/22.png</td>\n",
       "    </tr>\n",
       "    <tr>\n",
       "      <th>3</th>\n",
       "      <td>7</td>\n",
       "      <td>dataset/surprise/40.png</td>\n",
       "    </tr>\n",
       "    <tr>\n",
       "      <th>4</th>\n",
       "      <td>0</td>\n",
       "      <td>dataset/neutral/91.png</td>\n",
       "    </tr>\n",
       "  </tbody>\n",
       "</table>\n",
       "</div>"
      ],
      "text/plain": [
       "   emotion                     name\n",
       "0        3   dataset/disgust/48.png\n",
       "1        7  dataset/surprise/21.png\n",
       "2        4      dataset/fear/22.png\n",
       "3        7  dataset/surprise/40.png\n",
       "4        0   dataset/neutral/91.png"
      ]
     },
     "execution_count": 27,
     "metadata": {},
     "output_type": "execute_result"
    }
   ],
   "source": [
    "from sklearn.utils import shuffle\n",
    "shuffled_df = shuffle(train_df).reset_index(drop=True)\n",
    "shuffled_df.head()"
   ]
  },
  {
   "cell_type": "code",
   "execution_count": 35,
   "metadata": {},
   "outputs": [],
   "source": [
    "# 80 % trainset, 20% valid set and the test_df will be the test set.\n",
    "train_set_df = shuffled_df.iloc[:int(.8*len(shuffled_df))]\n",
    "valid_set_df = shuffled_df.iloc[int(.8*len(shuffled_df)):]"
   ]
  },
  {
   "cell_type": "code",
   "execution_count": 38,
   "metadata": {},
   "outputs": [],
   "source": [
    "def load_dataset(data):\n",
    "    image_files = np.array(data['name'])\n",
    "    emotion_class = np.array(data['emotion'])\n",
    "    return image_files, emotion_class"
   ]
  },
  {
   "cell_type": "code",
   "execution_count": 39,
   "metadata": {},
   "outputs": [
    {
     "name": "stdout",
     "output_type": "stream",
     "text": [
      "There are 439 total emotion  files.\n",
      "\n",
      "There are 283 training emotion images.\n",
      "There are 71 validation emotion images.\n",
      "There are 85 test emotion images.\n"
     ]
    }
   ],
   "source": [
    "# load train, test, and validation datasets\n",
    "train_files, train_targets = load_dataset(train_set_df)\n",
    "valid_files, valid_targets = load_dataset(valid_set_df)\n",
    "test_files, test_targets = load_dataset(test_df)\n",
    "\n",
    "\n",
    "# print statistics about the dataset\n",
    "print('There are %s total emotion  files.\\n' % len(np.hstack([train_files, valid_files, test_files])))\n",
    "print('There are %d training emotion images.' % len(train_files))\n",
    "print('There are %d validation emotion images.' % len(valid_files))\n",
    "print('There are %d test emotion images.'% len(test_files))"
   ]
  },
  {
   "cell_type": "code",
   "execution_count": 42,
   "metadata": {},
   "outputs": [],
   "source": [
    "def path_to_tensor(img_path):\n",
    "    # loads RGB image as PIL.Image.Image type\n",
    "    img = image.load_img(img_path, grayscale=True, target_size=(350, 350))\n",
    "    # convert PIL.Image.Image type to 3D tensor with shape (350, 350)\n",
    "    x = image.img_to_array(img)\n",
    "    # convert 3D tensor to 4D tensor with shape (1, 224, 224, 3) and return 4D tensor\n",
    "    return np.expand_dims(x, axis=0)\n",
    "\n",
    "def paths_to_tensor(img_paths):\n",
    "    list_of_tensors = [path_to_tensor(img_path) for img_path in tqdm(img_paths)]\n",
    "    return np.vstack(list_of_tensors)"
   ]
  },
  {
   "cell_type": "code",
   "execution_count": null,
   "metadata": {},
   "outputs": [],
   "source": []
  }
 ],
 "metadata": {
  "kernelspec": {
   "display_name": "fer",
   "language": "python",
   "name": "fer"
  },
  "language_info": {
   "codemirror_mode": {
    "name": "ipython",
    "version": 3
   },
   "file_extension": ".py",
   "mimetype": "text/x-python",
   "name": "python",
   "nbconvert_exporter": "python",
   "pygments_lexer": "ipython3",
   "version": "3.6.8"
  }
 },
 "nbformat": 4,
 "nbformat_minor": 2
}
